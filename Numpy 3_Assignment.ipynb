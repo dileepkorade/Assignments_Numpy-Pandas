{
 "cells": [
  {
   "cell_type": "markdown",
   "id": "8c730a75",
   "metadata": {},
   "source": [
    "# Numpy 3: Swap row 0 and 1 in the 3*3 numpy array.(Use indexing and slicing) Eg. Input [[1,2,3], [4,5,6], [7,8,9]] Output: [[4,5,6], [1,2,3], [7,8,9]]"
   ]
  },
  {
   "cell_type": "code",
   "execution_count": 2,
   "id": "6d911bf0",
   "metadata": {},
   "outputs": [
    {
     "data": {
      "text/plain": [
       "array([[8, 5, 3],\n",
       "       [3, 2, 7],\n",
       "       [6, 6, 4]])"
      ]
     },
     "execution_count": 2,
     "metadata": {},
     "output_type": "execute_result"
    }
   ],
   "source": [
    "import numpy as np\n",
    "\n",
    "A = np.random.randint(1,9,(3,3))\n",
    "A"
   ]
  },
  {
   "cell_type": "code",
   "execution_count": 15,
   "id": "79ded75f",
   "metadata": {},
   "outputs": [],
   "source": [
    "B = A[1::2]\n",
    "C = A[::3]\n",
    "D = A[2:]"
   ]
  },
  {
   "cell_type": "code",
   "execution_count": 16,
   "id": "116c62de",
   "metadata": {},
   "outputs": [
    {
     "data": {
      "text/plain": [
       "array([[3, 2, 7]])"
      ]
     },
     "execution_count": 16,
     "metadata": {},
     "output_type": "execute_result"
    }
   ],
   "source": [
    "B"
   ]
  },
  {
   "cell_type": "code",
   "execution_count": 17,
   "id": "708e7438",
   "metadata": {},
   "outputs": [
    {
     "data": {
      "text/plain": [
       "array([[8, 5, 3]])"
      ]
     },
     "execution_count": 17,
     "metadata": {},
     "output_type": "execute_result"
    }
   ],
   "source": [
    "C"
   ]
  },
  {
   "cell_type": "code",
   "execution_count": 19,
   "id": "456b480e",
   "metadata": {},
   "outputs": [
    {
     "data": {
      "text/plain": [
       "array([[6, 6, 4]])"
      ]
     },
     "execution_count": 19,
     "metadata": {},
     "output_type": "execute_result"
    }
   ],
   "source": [
    "D"
   ]
  },
  {
   "cell_type": "code",
   "execution_count": 21,
   "id": "65d9d69d",
   "metadata": {},
   "outputs": [
    {
     "data": {
      "text/plain": [
       "array([[3, 2, 7],\n",
       "       [8, 5, 3],\n",
       "       [6, 6, 4]])"
      ]
     },
     "execution_count": 21,
     "metadata": {},
     "output_type": "execute_result"
    }
   ],
   "source": [
    "E = np.vstack((B,C,D))\n",
    "E"
   ]
  },
  {
   "cell_type": "markdown",
   "id": "f4960dad",
   "metadata": {},
   "source": [
    "# Another code"
   ]
  },
  {
   "cell_type": "code",
   "execution_count": 22,
   "id": "29db99c4",
   "metadata": {},
   "outputs": [
    {
     "data": {
      "text/plain": [
       "array([[3, 6, 6],\n",
       "       [6, 8, 2],\n",
       "       [4, 6, 4]])"
      ]
     },
     "execution_count": 22,
     "metadata": {},
     "output_type": "execute_result"
    }
   ],
   "source": [
    "import numpy as np\n",
    "\n",
    "A = np.random.randint(1,9,(3,3))\n",
    "A"
   ]
  },
  {
   "cell_type": "code",
   "execution_count": 23,
   "id": "7ac6be24",
   "metadata": {},
   "outputs": [
    {
     "data": {
      "text/plain": [
       "array([[6, 8, 2],\n",
       "       [3, 6, 6],\n",
       "       [4, 6, 4]])"
      ]
     },
     "execution_count": 23,
     "metadata": {},
     "output_type": "execute_result"
    }
   ],
   "source": [
    "B = A[[1,0,2]]\n",
    "B"
   ]
  },
  {
   "cell_type": "markdown",
   "id": "47eb3a56",
   "metadata": {},
   "source": [
    "# Another code"
   ]
  },
  {
   "cell_type": "code",
   "execution_count": 34,
   "id": "c65ba646",
   "metadata": {},
   "outputs": [
    {
     "data": {
      "text/plain": [
       "array([[7, 5, 1],\n",
       "       [5, 8, 2],\n",
       "       [6, 5, 7]])"
      ]
     },
     "execution_count": 34,
     "metadata": {},
     "output_type": "execute_result"
    }
   ],
   "source": [
    "import numpy as np\n",
    "\n",
    "A = np.random.randint(1,9,(3,3))\n",
    "A"
   ]
  },
  {
   "cell_type": "code",
   "execution_count": 37,
   "id": "a3602f10",
   "metadata": {},
   "outputs": [],
   "source": [
    "A[[0,1], :] = A[[1,0], :]"
   ]
  },
  {
   "cell_type": "code",
   "execution_count": 38,
   "id": "fffd6363",
   "metadata": {},
   "outputs": [
    {
     "data": {
      "text/plain": [
       "array([[7, 5, 1],\n",
       "       [5, 8, 2],\n",
       "       [6, 5, 7]])"
      ]
     },
     "execution_count": 38,
     "metadata": {},
     "output_type": "execute_result"
    }
   ],
   "source": [
    "A"
   ]
  },
  {
   "cell_type": "code",
   "execution_count": null,
   "id": "dc8036d2",
   "metadata": {},
   "outputs": [],
   "source": []
  }
 ],
 "metadata": {
  "kernelspec": {
   "display_name": "Python 3",
   "language": "python",
   "name": "python3"
  },
  "language_info": {
   "codemirror_mode": {
    "name": "ipython",
    "version": 3
   },
   "file_extension": ".py",
   "mimetype": "text/x-python",
   "name": "python",
   "nbconvert_exporter": "python",
   "pygments_lexer": "ipython3",
   "version": "3.8.8"
  }
 },
 "nbformat": 4,
 "nbformat_minor": 5
}
