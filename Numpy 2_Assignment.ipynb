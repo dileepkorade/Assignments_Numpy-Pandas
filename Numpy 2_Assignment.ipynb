{
 "cells": [
  {
   "cell_type": "markdown",
   "id": "ee95ddbc",
   "metadata": {},
   "source": [
    "# Numpy 2. Create Numpy array named \"arr1\" with numbers 1,2,3,....100. Replace all odd numbers in arr1 by -1. Expected output: Array([-1,2,-1,4,-1,6,........])"
   ]
  },
  {
   "cell_type": "code",
   "execution_count": 1,
   "id": "30fe90b7",
   "metadata": {},
   "outputs": [],
   "source": [
    "import numpy as np"
   ]
  },
  {
   "cell_type": "code",
   "execution_count": 2,
   "id": "3d2a64ec",
   "metadata": {},
   "outputs": [
    {
     "data": {
      "text/plain": [
       "array([  1,   2,   3,   4,   5,   6,   7,   8,   9,  10,  11,  12,  13,\n",
       "        14,  15,  16,  17,  18,  19,  20,  21,  22,  23,  24,  25,  26,\n",
       "        27,  28,  29,  30,  31,  32,  33,  34,  35,  36,  37,  38,  39,\n",
       "        40,  41,  42,  43,  44,  45,  46,  47,  48,  49,  50,  51,  52,\n",
       "        53,  54,  55,  56,  57,  58,  59,  60,  61,  62,  63,  64,  65,\n",
       "        66,  67,  68,  69,  70,  71,  72,  73,  74,  75,  76,  77,  78,\n",
       "        79,  80,  81,  82,  83,  84,  85,  86,  87,  88,  89,  90,  91,\n",
       "        92,  93,  94,  95,  96,  97,  98,  99, 100])"
      ]
     },
     "execution_count": 2,
     "metadata": {},
     "output_type": "execute_result"
    }
   ],
   "source": [
    "arr1 = np.arange(1,101)\n",
    "arr1"
   ]
  },
  {
   "cell_type": "code",
   "execution_count": 6,
   "id": "cc9987dc",
   "metadata": {},
   "outputs": [],
   "source": [
    "arr1[arr1%2!=0] = -1"
   ]
  },
  {
   "cell_type": "code",
   "execution_count": 7,
   "id": "984f2d5b",
   "metadata": {},
   "outputs": [
    {
     "data": {
      "text/plain": [
       "array([ -1,   2,  -1,   4,  -1,   6,  -1,   8,  -1,  10,  -1,  12,  -1,\n",
       "        14,  -1,  16,  -1,  18,  -1,  20,  -1,  22,  -1,  24,  -1,  26,\n",
       "        -1,  28,  -1,  30,  -1,  32,  -1,  34,  -1,  36,  -1,  38,  -1,\n",
       "        40,  -1,  42,  -1,  44,  -1,  46,  -1,  48,  -1,  50,  -1,  52,\n",
       "        -1,  54,  -1,  56,  -1,  58,  -1,  60,  -1,  62,  -1,  64,  -1,\n",
       "        66,  -1,  68,  -1,  70,  -1,  72,  -1,  74,  -1,  76,  -1,  78,\n",
       "        -1,  80,  -1,  82,  -1,  84,  -1,  86,  -1,  88,  -1,  90,  -1,\n",
       "        92,  -1,  94,  -1,  96,  -1,  98,  -1, 100])"
      ]
     },
     "execution_count": 7,
     "metadata": {},
     "output_type": "execute_result"
    }
   ],
   "source": [
    "arr1"
   ]
  },
  {
   "cell_type": "code",
   "execution_count": 9,
   "id": "290ae72b",
   "metadata": {},
   "outputs": [
    {
     "name": "stdout",
     "output_type": "stream",
     "text": [
      "[  1   2   3   4   5   6   7   8   9  10  11  12  13  14  15  16  17  18\n",
      "  19  20  21  22  23  24  25  26  27  28  29  30  31  32  33  34  35  36\n",
      "  37  38  39  40  41  42  43  44  45  46  47  48  49  50  51  52  53  54\n",
      "  55  56  57  58  59  60  61  62  63  64  65  66  67  68  69  70  71  72\n",
      "  73  74  75  76  77  78  79  80  81  82  83  84  85  86  87  88  89  90\n",
      "  91  92  93  94  95  96  97  98  99 100]\n"
     ]
    },
    {
     "data": {
      "text/plain": [
       "array([ -1,   2,  -1,   4,  -1,   6,  -1,   8,  -1,  10,  -1,  12,  -1,\n",
       "        14,  -1,  16,  -1,  18,  -1,  20,  -1,  22,  -1,  24,  -1,  26,\n",
       "        -1,  28,  -1,  30,  -1,  32,  -1,  34,  -1,  36,  -1,  38,  -1,\n",
       "        40,  -1,  42,  -1,  44,  -1,  46,  -1,  48,  -1,  50,  -1,  52,\n",
       "        -1,  54,  -1,  56,  -1,  58,  -1,  60,  -1,  62,  -1,  64,  -1,\n",
       "        66,  -1,  68,  -1,  70,  -1,  72,  -1,  74,  -1,  76,  -1,  78,\n",
       "        -1,  80,  -1,  82,  -1,  84,  -1,  86,  -1,  88,  -1,  90,  -1,\n",
       "        92,  -1,  94,  -1,  96,  -1,  98,  -1, 100])"
      ]
     },
     "execution_count": 9,
     "metadata": {},
     "output_type": "execute_result"
    }
   ],
   "source": [
    "import numpy as np\n",
    "\n",
    "arr1 = np.arange(1,101)\n",
    "print(arr1)\n",
    "\n",
    "arr1[arr1%2!=0] = -1\n",
    "arr1"
   ]
  },
  {
   "cell_type": "code",
   "execution_count": null,
   "id": "d7b4ea08",
   "metadata": {},
   "outputs": [],
   "source": []
  }
 ],
 "metadata": {
  "kernelspec": {
   "display_name": "Python 3",
   "language": "python",
   "name": "python3"
  },
  "language_info": {
   "codemirror_mode": {
    "name": "ipython",
    "version": 3
   },
   "file_extension": ".py",
   "mimetype": "text/x-python",
   "name": "python",
   "nbconvert_exporter": "python",
   "pygments_lexer": "ipython3",
   "version": "3.8.8"
  }
 },
 "nbformat": 4,
 "nbformat_minor": 5
}
